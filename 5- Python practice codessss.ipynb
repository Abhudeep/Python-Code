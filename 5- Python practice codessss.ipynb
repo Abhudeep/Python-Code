{
 "cells": [
  {
   "cell_type": "markdown",
   "id": "39eef3df",
   "metadata": {},
   "source": [
    "# Reverse a String using Python"
   ]
  },
  {
   "cell_type": "code",
   "execution_count": 1,
   "id": "a85345b4",
   "metadata": {},
   "outputs": [],
   "source": [
    "def reverse_string(string):\n",
    "    return string[::-1]"
   ]
  },
  {
   "cell_type": "code",
   "execution_count": null,
   "id": "8219185b",
   "metadata": {},
   "outputs": [],
   "source": []
  }
 ],
 "metadata": {
  "kernelspec": {
   "display_name": "Python 3 (ipykernel)",
   "language": "python",
   "name": "python3"
  },
  "language_info": {
   "codemirror_mode": {
    "name": "ipython",
    "version": 3
   },
   "file_extension": ".py",
   "mimetype": "text/x-python",
   "name": "python",
   "nbconvert_exporter": "python",
   "pygments_lexer": "ipython3",
   "version": "3.9.13"
  }
 },
 "nbformat": 4,
 "nbformat_minor": 5
}
