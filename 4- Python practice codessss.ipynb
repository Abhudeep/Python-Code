{
 "cells": [
  {
   "cell_type": "markdown",
   "id": "fb5b1434",
   "metadata": {},
   "source": [
    "In the FizzBuzz problem, you will be given an integer, and you need to return a string array where:\n",
    "\n",
    "1. the numbers that are divisible by 3 will be replaced with the word “Fizz”;\n",
    "2. the numbers that are divisible by 5 will be replaced with the word “Buzz”;\n",
    "3. and the numbers that are divisible by both 3 and 5 will be replaced by the word “FizzBuzz”;"
   ]
  },
  {
   "cell_type": "code",
   "execution_count": 1,
   "id": "bd586b4a",
   "metadata": {},
   "outputs": [],
   "source": [
    "def fizzBuzz(n):\n",
    "    output = []\n",
    "\n",
    "    for i in range(1, n + 1):\n",
    "        if (i % 3) == 0 and (i % 5) == 0:\n",
    "            output.append(\"FizzBuzz\")\n",
    "        elif i % 3 == 0:\n",
    "            output.append(\"Fizz\")\n",
    "        elif i % 5 == 0:\n",
    "            output.append(\"Buzz\")\n",
    "        else:\n",
    "            output.append(str(i))\n",
    "    return output"
   ]
  },
  {
   "cell_type": "code",
   "execution_count": null,
   "id": "7b6cb0a2",
   "metadata": {},
   "outputs": [],
   "source": []
  }
 ],
 "metadata": {
  "kernelspec": {
   "display_name": "Python 3 (ipykernel)",
   "language": "python",
   "name": "python3"
  },
  "language_info": {
   "codemirror_mode": {
    "name": "ipython",
    "version": 3
   },
   "file_extension": ".py",
   "mimetype": "text/x-python",
   "name": "python",
   "nbconvert_exporter": "python",
   "pygments_lexer": "ipython3",
   "version": "3.9.13"
  }
 },
 "nbformat": 4,
 "nbformat_minor": 5
}
