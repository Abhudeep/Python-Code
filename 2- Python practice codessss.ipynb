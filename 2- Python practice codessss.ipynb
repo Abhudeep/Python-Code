{
 "cells": [
  {
   "cell_type": "markdown",
   "id": "44d8729c",
   "metadata": {},
   "source": [
    "When we square an integer, the output is a perfect square. In the problem of validating a perfect square, you will be given an integer n. To solve this problem, you need to check whether the given integer n is a square of an integer."
   ]
  },
  {
   "cell_type": "code",
   "execution_count": 1,
   "id": "733af533",
   "metadata": {},
   "outputs": [],
   "source": [
    "def isPerfectSquare(num):\n",
    "    left = 1\n",
    "    right = num\n",
    "\n",
    "    while left < right:\n",
    "        mid = (left + right) // 2\n",
    "        if mid * mid == num:\n",
    "            return True\n",
    "        \n",
    "        elif mid * mid < num:\n",
    "            left = mid + 1\n",
    "        \n",
    "        elif mid * mid > num:\n",
    "            right = mid\n",
    "    return False"
   ]
  },
  {
   "cell_type": "code",
   "execution_count": null,
   "id": "bd1882f5",
   "metadata": {},
   "outputs": [],
   "source": []
  }
 ],
 "metadata": {
  "kernelspec": {
   "display_name": "Python 3 (ipykernel)",
   "language": "python",
   "name": "python3"
  },
  "language_info": {
   "codemirror_mode": {
    "name": "ipython",
    "version": 3
   },
   "file_extension": ".py",
   "mimetype": "text/x-python",
   "name": "python",
   "nbconvert_exporter": "python",
   "pygments_lexer": "ipython3",
   "version": "3.9.13"
  }
 },
 "nbformat": 4,
 "nbformat_minor": 5
}
