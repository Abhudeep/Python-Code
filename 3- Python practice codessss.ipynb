{
 "cells": [
  {
   "cell_type": "markdown",
   "id": "0f37a996",
   "metadata": {},
   "source": [
    "# First Unique Character in a String\n",
    "In the problem of finding the first unique character in a string, you will be given a string as input. To solve this problem, you need to find the index of the first character in the string that is non-repeating in the string. And if there is no unique character, your output should return -1."
   ]
  },
  {
   "cell_type": "code",
   "execution_count": 11,
   "id": "b439bcac",
   "metadata": {},
   "outputs": [
    {
     "name": "stdout",
     "output_type": "stream",
     "text": [
      "w\n",
      "o\n",
      "r\n",
      "d\n"
     ]
    }
   ],
   "source": [
    "z= \"word\"\n",
    "for i,j in enumerate(z):\n",
    "    print(j)"
   ]
  },
  {
   "cell_type": "code",
   "execution_count": 7,
   "id": "59cec30b",
   "metadata": {},
   "outputs": [
    {
     "name": "stdout",
     "output_type": "stream",
     "text": [
      "(0, 'w')\n",
      "(1, 'o')\n",
      "(2, 'r')\n",
      "(3, 'd')\n"
     ]
    }
   ],
   "source": [
    "z= \"word\"\n",
    "for i in enumerate(z):\n",
    "    print (i)\n",
    " "
   ]
  },
  {
   "cell_type": "code",
   "execution_count": 9,
   "id": "5023dda2",
   "metadata": {},
   "outputs": [
    {
     "name": "stdout",
     "output_type": "stream",
     "text": [
      "Counter({'B': 5, 'A': 3, 'C': 2})\n",
      "Counter({'B': 5, 'A': 3, 'C': 2})\n",
      "Counter({'B': 5, 'A': 3, 'C': 2})\n"
     ]
    }
   ],
   "source": [
    "from collections import Counter\n",
    "  \n",
    "# With sequence of items \n",
    "print(Counter(['B','B','A','B','C','A','B','B','A','C']))\n",
    "  \n",
    "# with dictionary\n",
    "print(Counter({'A':3, 'B':5, 'C':2}))\n",
    "  \n",
    "# with keyword arguments\n",
    "print(Counter(A=3, B=5, C=2))"
   ]
  },
  {
   "cell_type": "code",
   "execution_count": 10,
   "id": "2fcd3914",
   "metadata": {},
   "outputs": [
    {
     "data": {
      "text/plain": [
       "Counter({'w': 1, 'o': 1, 'r': 1, 'd': 1})"
      ]
     },
     "execution_count": 10,
     "metadata": {},
     "output_type": "execute_result"
    }
   ],
   "source": [
    "z= \"word\"\n",
    "Counter(z)"
   ]
  },
  {
   "cell_type": "code",
   "execution_count": 19,
   "id": "c19c782b",
   "metadata": {},
   "outputs": [
    {
     "data": {
      "text/plain": [
       "2"
      ]
     },
     "execution_count": 19,
     "metadata": {},
     "output_type": "execute_result"
    }
   ],
   "source": [
    "z= \"zinia\"\n",
    "count=Counter(z)\n",
    "count[\"i\"]"
   ]
  },
  {
   "cell_type": "code",
   "execution_count": 20,
   "id": "b32365a0",
   "metadata": {},
   "outputs": [],
   "source": [
    "def func(z):\n",
    "    from collections import Counter\n",
    "    count= Counter(z)\n",
    "    for i, j in enumerate(z):\n",
    "        if count[j]==1:\n",
    "            return i\n",
    "        else:\n",
    "            return -1"
   ]
  },
  {
   "cell_type": "code",
   "execution_count": 21,
   "id": "501cfc57",
   "metadata": {},
   "outputs": [
    {
     "data": {
      "text/plain": [
       "0"
      ]
     },
     "execution_count": 21,
     "metadata": {},
     "output_type": "execute_result"
    }
   ],
   "source": [
    "func(\"zinia\")"
   ]
  },
  {
   "cell_type": "code",
   "execution_count": null,
   "id": "af972f52",
   "metadata": {},
   "outputs": [],
   "source": []
  }
 ],
 "metadata": {
  "kernelspec": {
   "display_name": "Python 3 (ipykernel)",
   "language": "python",
   "name": "python3"
  },
  "language_info": {
   "codemirror_mode": {
    "name": "ipython",
    "version": 3
   },
   "file_extension": ".py",
   "mimetype": "text/x-python",
   "name": "python",
   "nbconvert_exporter": "python",
   "pygments_lexer": "ipython3",
   "version": "3.9.13"
  }
 },
 "nbformat": 4,
 "nbformat_minor": 5
}
